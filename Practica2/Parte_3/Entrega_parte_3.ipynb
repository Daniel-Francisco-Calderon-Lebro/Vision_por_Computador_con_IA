{
 "cells": [
  {
   "cell_type": "markdown",
   "metadata": {},
   "source": [
    "# Reto Clasificación flores\n",
    "### Cargamos las librerías y las funciones a utilizar"
   ]
  },
  {
   "cell_type": "code",
   "execution_count": 1,
   "metadata": {},
   "outputs": [],
   "source": [
    "import numpy as np\n",
    "from sklearn.datasets import load_iris\n",
    "from sklearn.cluster import KMeans\n",
    "from sklearn.neural_network import MLPClassifier\n",
    "from sklearn.metrics import accuracy_score, f1_score, recall_score, precision_score, confusion_matrix, roc_curve, auc\n",
    "from sklearn.preprocessing import label_binarize\n",
    "from sklearn.multiclass import OneVsRestClassifier\n",
    "from scipy.stats import mode\n",
    "import matplotlib.pyplot as plt\n",
    "import seaborn as sns"
   ]
  },
  {
   "cell_type": "markdown",
   "metadata": {},
   "source": [
    "# Cargmos los datos del conjunto de datos Iris"
   ]
  },
  {
   "cell_type": "code",
   "execution_count": 2,
   "metadata": {},
   "outputs": [],
   "source": [
    "data = load_iris()\n",
    "X = data.data\n",
    "y_true = data.target\n",
    "n_classes = len(np.unique(y_true))"
   ]
  },
  {
   "cell_type": "markdown",
   "metadata": {},
   "source": [
    "# Entrenar K-Means (con 3 clústeres para las 3 clases)"
   ]
  },
  {
   "cell_type": "code",
   "execution_count": 3,
   "metadata": {},
   "outputs": [],
   "source": [
    "# Binarizar las etiquetas para el cálculo de la curva ROC y AUC\n",
    "y_true_binarized = label_binarize(y_true, classes=[0, 1, 2])\n",
    "y_true_binarized\n",
    "# Entrenar K-Means (con 3 clústeres para las 3 clases)\n",
    "kmeans = KMeans(n_clusters=3, random_state=42)\n",
    "y_kmeans = kmeans.fit_predict(X)"
   ]
  },
  {
   "cell_type": "markdown",
   "metadata": {},
   "source": [
    "# Asignar las etiquetas a los clústeres resultantes"
   ]
  },
  {
   "cell_type": "code",
   "execution_count": 4,
   "metadata": {},
   "outputs": [],
   "source": [
    "labels = np.zeros_like(y_kmeans)\n",
    "for i in range(3):\n",
    "    mask = (y_kmeans == i)\n",
    "    labels[mask] = mode(y_true[mask])[0]"
   ]
  },
  {
   "cell_type": "markdown",
   "metadata": {},
   "source": [
    "# Calcular Accuracy, F1-Score, Recall y Precisión"
   ]
  },
  {
   "cell_type": "code",
   "execution_count": 5,
   "metadata": {},
   "outputs": [],
   "source": [
    "accuracy = accuracy_score(y_true, labels)\n",
    "f1 = f1_score(y_true, labels, average='macro')\n",
    "recall = recall_score(y_true, labels, average='macro')\n",
    "precision = precision_score(y_true, labels, average='macro')"
   ]
  },
  {
   "cell_type": "markdown",
   "metadata": {},
   "source": [
    "# Calcular la especificidad para cada clase: TN / (TN + FP)"
   ]
  },
  {
   "cell_type": "code",
   "execution_count": 6,
   "metadata": {},
   "outputs": [],
   "source": [
    "cm = confusion_matrix(y_true, labels)\n",
    "specificity = []\n",
    "for i in range(3):\n",
    "    tn = cm.sum() - (cm[i, :].sum() + cm[:, i].sum() - cm[i, i])\n",
    "    fp = cm[:, i].sum() - cm[i, i]\n",
    "    specificity.append(tn / (tn + fp))\n",
    "specificity = np.mean(specificity)"
   ]
  },
  {
   "cell_type": "markdown",
   "metadata": {},
   "source": [
    "# Imprimir las métricas para K-Means"
   ]
  },
  {
   "cell_type": "code",
   "execution_count": 7,
   "metadata": {},
   "outputs": [
    {
     "name": "stdout",
     "output_type": "stream",
     "text": [
      "Métricas para K-Means:\n",
      "Exactitud (Accuracy): 0.89\n",
      "F1-Score: 0.89\n",
      "Recall (Sensibilidad): 0.89\n",
      "Precisión: 0.91\n",
      "Especificidad: 0.95\n"
     ]
    }
   ],
   "source": [
    "print(f\"Métricas para K-Means:\")\n",
    "print(f\"Exactitud (Accuracy): {accuracy:.2f}\")\n",
    "print(f\"F1-Score: {f1:.2f}\")\n",
    "print(f\"Recall (Sensibilidad): {recall:.2f}\")\n",
    "print(f\"Precisión: {precision:.2f}\")\n",
    "print(f\"Especificidad: {specificity:.2f}\")"
   ]
  },
  {
   "cell_type": "markdown",
   "metadata": {},
   "source": [
    "# Mostrar la matriz de confusión con Seaborn para K-Means"
   ]
  },
  {
   "cell_type": "code",
   "execution_count": 8,
   "metadata": {},
   "outputs": [
    {
     "data": {
      "image/png": "[encoded data removed]",
      "text/plain": [
       "<Figure size 576x432 with 1 Axes>"
      ]
     },
     "metadata": {
      "needs_background": "light"
     },
     "output_type": "display_data"
    }
   ],
   "source": [
    "# Mostrar la matriz de confusión con Seaborn para K-Means\n",
    "plt.figure(figsize=(8, 6))\n",
    "sns.heatmap(cm, annot=True, fmt=\"d\", cmap=\"Blues\", cbar=False, \n",
    "            xticklabels=data.target_names, yticklabels=data.target_names)\n",
    "plt.xlabel(\"Etiquetas Predichas\")\n",
    "plt.ylabel(\"Etiquetas Reales\")\n",
    "plt.title(\"Matriz de Confusión para K-Means\")\n",
    "plt.show()"
   ]
  },
  {
   "cell_type": "markdown",
   "metadata": {},
   "source": [
    "# Entrenar el modelo MLP"
   ]
  },
  {
   "cell_type": "code",
   "execution_count": 9,
   "metadata": {},
   "outputs": [
    {
     "name": "stderr",
     "output_type": "stream",
     "text": [
      "c:\\Users\\Daniel Calderon\\.conda\\envs\\myenv\\lib\\site-packages\\sklearn\\neural_network\\_multilayer_perceptron.py:617: ConvergenceWarning: Stochastic Optimizer: Maximum iterations (1000) reached and the optimization hasn't converged yet.\n",
      "  % self.max_iter, ConvergenceWarning)\n"
     ]
    },
    {
     "data": {
      "text/plain": [
       "MLPClassifier(hidden_layer_sizes=(3, 3), max_iter=1000, random_state=42)"
      ]
     },
     "execution_count": 9,
     "metadata": {},
     "output_type": "execute_result"
    }
   ],
   "source": [
    "mlp = MLPClassifier(hidden_layer_sizes=(3, 3), solver='adam', learning_rate_init=0.001, max_iter=1000, random_state=42)\n",
    "mlp.fit(X, y_true)"
   ]
  },
  {
   "cell_type": "markdown",
   "metadata": {},
   "source": [
    "# Evaluar el modelo MLP"
   ]
  },
  {
   "cell_type": "code",
   "execution_count": 10,
   "metadata": {},
   "outputs": [],
   "source": [
    "y_pred_mlp = mlp.predict(X)"
   ]
  },
  {
   "cell_type": "markdown",
   "metadata": {},
   "source": [
    "# Calcular Accuracy, F1-Score, Recall y Precisión para MLP"
   ]
  },
  {
   "cell_type": "code",
   "execution_count": 11,
   "metadata": {},
   "outputs": [],
   "source": [
    "accuracy_mlp = accuracy_score(y_true, y_pred_mlp)\n",
    "f1_mlp = f1_score(y_true, y_pred_mlp, average='macro')\n",
    "recall_mlp = recall_score(y_true, y_pred_mlp, average='macro')\n",
    "precision_mlp = precision_score(y_true, y_pred_mlp, average='macro')"
   ]
  },
  {
   "cell_type": "markdown",
   "metadata": {},
   "source": [
    "# Calcular la especificidad para cada clase: TN / (TN + FP)"
   ]
  },
  {
   "cell_type": "code",
   "execution_count": 12,
   "metadata": {},
   "outputs": [],
   "source": [
    "cm_mlp = confusion_matrix(y_true, y_pred_mlp)\n",
    "specificity = []\n",
    "for i in range(3):\n",
    "    tn = cm_mlp.sum() - (cm_mlp[i, :].sum() + cm_mlp[:, i].sum() - cm_mlp[i, i])\n",
    "    fp = cm_mlp[:, i].sum() - cm_mlp[i, i]\n",
    "    specificity.append(tn / (tn + fp))\n",
    "specificity_mlp = np.mean(specificity)"
   ]
  },
  {
   "cell_type": "markdown",
   "metadata": {},
   "source": [
    "# Imprimir las métricas para MLP"
   ]
  },
  {
   "cell_type": "code",
   "execution_count": 13,
   "metadata": {},
   "outputs": [
    {
     "name": "stdout",
     "output_type": "stream",
     "text": [
      "\n",
      "Métricas para MLP:\n",
      "Exactitud (Accuracy): 0.98\n",
      "F1-Score: 0.98\n",
      "Recall (Sensibilidad): 0.98\n",
      "Precisión: 0.98\n",
      "Especificidad: 0.99\n"
     ]
    }
   ],
   "source": [
    "print(f\"\\nMétricas para MLP:\")\n",
    "print(f\"Exactitud (Accuracy): {accuracy_mlp:.2f}\")\n",
    "print(f\"F1-Score: {f1_mlp:.2f}\")\n",
    "print(f\"Recall (Sensibilidad): {recall_mlp:.2f}\")\n",
    "print(f\"Precisión: {precision_mlp:.2f}\")\n",
    "print(f\"Especificidad: {specificity_mlp:.2f}\")"
   ]
  },
  {
   "cell_type": "markdown",
   "metadata": {},
   "source": [
    "# Mostrar la matriz de confusión con Seaborn para MLP"
   ]
  },
  {
   "cell_type": "code",
   "execution_count": 14,
   "metadata": {},
   "outputs": [
    {
     "data": {
      "image/png": "[encoded data removed]",
      "text/plain": [
       "<Figure size 576x432 with 1 Axes>"
      ]
     },
     "metadata": {
      "needs_background": "light"
     },
     "output_type": "display_data"
    }
   ],
   "source": [
    "plt.figure(figsize=(8, 6))\n",
    "sns.heatmap(cm_mlp, annot=True, fmt=\"d\", cmap=\"Blues\", cbar=False, \n",
    "            xticklabels=data.target_names, yticklabels=data.target_names)\n",
    "plt.xlabel(\"Etiquetas Predichas\")\n",
    "plt.ylabel(\"Etiquetas Reales\")\n",
    "plt.title(\"Matriz de Confusión para MLP\")\n",
    "plt.show()"
   ]
  },
  {
   "cell_type": "markdown",
   "metadata": {},
   "source": [
    "# Generar Curva ROC y calcular AUC para MLP"
   ]
  },
  {
   "cell_type": "code",
   "execution_count": 15,
   "metadata": {},
   "outputs": [],
   "source": [
    "y_score_mlp = mlp.predict_proba(X)\n",
    "\n",
    "fpr = dict()\n",
    "tpr = dict()\n",
    "roc_auc = dict()\n",
    "for i in range(n_classes):\n",
    "    fpr[i], tpr[i], _ = roc_curve(y_true_binarized[:, i], y_score_mlp[:, i])\n",
    "    roc_auc[i] = auc(fpr[i], tpr[i])"
   ]
  },
  {
   "cell_type": "markdown",
   "metadata": {},
   "source": [
    "# Mostrar las curvas ROC para cada clase"
   ]
  },
  {
   "cell_type": "code",
   "execution_count": 16,
   "metadata": {},
   "outputs": [
    {
     "data": {
      "image/png": "[encoded data removed]",
      "text/plain": [
       "<Figure size 432x288 with 1 Axes>"
      ]
     },
     "metadata": {
      "needs_background": "light"
     },
     "output_type": "display_data"
    }
   ],
   "source": [
    "plt.figure()\n",
    "for i in range(n_classes):\n",
    "    plt.plot(fpr[i], tpr[i], label=f'Clase {i} (AUC = {roc_auc[i]:.2f})')\n",
    "\n",
    "plt.plot([0, 1], [0, 1], 'k--', lw=2)\n",
    "plt.xlim([0.0, 1.0])\n",
    "plt.ylim([0.0, 1.05])\n",
    "plt.xlabel('Tasa de Falsos Positivos')\n",
    "plt.ylabel('Tasa de Verdaderos Positivos')\n",
    "plt.title('Curva ROC para MLP')\n",
    "plt.legend(loc=\"lower right\")\n",
    "plt.show()"
   ]
  },
  {
   "cell_type": "markdown",
   "metadata": {},
   "source": [
    "# Explicación de métricas de evaluación de modelos\n",
    "\n",
    "Este documento explica las métricas de evaluación utilizadas en dos modelos de clasificación aplicados al conjunto de datos **Iris**. Los modelos incluyen una **Clusterización** y un **Perceptrón Multicapa**. A continuación, se describen las métricas: precisión, recall (sensibilidad), F1-score, exactitud (accuracy), especificidad, y AUC-ROC, con su respectiva explicación matemática y cómo se implementan en el código.\n",
    "\n",
    "---\n",
    "\n",
    "## 1. Precisión (Precision)\n",
    "\n",
    "La **precisión** mide la proporción de verdaderos positivos (TP) sobre el total de instancias clasificadas como positivas (TP + FP). Es útil cuando el costo de los falsos positivos es alto.\n",
    "\n",
    "**Fórmula:**\n",
    "\n",
    "$$\n",
    "Precision = \\frac{TP}{TP + FP}\n",
    "$$\n",
    "\n",
    "**En el código:** Se utiliza la función `precision_score()` de `sklearn.metrics`.\n",
    "\n",
    "---\n",
    "\n",
    "## 2. Recall (Sensibilidad)\n",
    "\n",
    "El **recall** o **sensibilidad** mide la proporción de verdaderos positivos (TP) sobre el total de instancias que son realmente positivas (TP + FN). Es útil cuando el costo de los falsos negativos es alto.\n",
    "\n",
    "**Fórmula:**\n",
    "\n",
    "$$\n",
    "Recall = \\frac{TP}{TP + FN}\n",
    "$$\n",
    "\n",
    "**En el código:** Se utiliza la función `recall_score()` de `sklearn.metrics`.\n",
    "\n",
    "---\n",
    "\n",
    "## 3. F1-Score\n",
    "\n",
    "El **F1-score** es la media armónica entre precisión y recall. Se utiliza cuando se quiere un balance entre estas dos métricas, especialmente en casos de datos desbalanceados.\n",
    "\n",
    "**Fórmula:**\n",
    "\n",
    "$$\n",
    "F1 = 2 \\cdot \\frac{Precision \\cdot Recall}{Precision + Recall}\n",
    "$$\n",
    "\n",
    "**En el código:** Se calcula con la función `f1_score()` de `sklearn.metrics`.\n",
    "\n",
    "---\n",
    "\n",
    "## 4. Exactitud (Accuracy)\n",
    "\n",
    "La **exactitud** mide la proporción de predicciones correctas (verdaderos positivos y verdaderos negativos) sobre el total de predicciones.\n",
    "\n",
    "**Fórmula:**\n",
    "\n",
    "$$\n",
    "Accuracy = \\frac{TP + TN}{TP + TN + FP + FN}\n",
    "$$\n",
    "\n",
    "**En el código:** Se implementa utilizando la función `accuracy_score()` de `sklearn.metrics`.\n",
    "\n",
    "---\n",
    "\n",
    "## 5. Especificidad\n",
    "\n",
    "La **especificidad** mide la proporción de verdaderos negativos (TN) sobre el total de instancias que son realmente negativas (TN + FP). Es útil para evaluar cómo el modelo evita clasificar incorrectamente instancias negativas como positivas.\n",
    "\n",
    "**Fórmula:**\n",
    "\n",
    "$$\n",
    "Specificity = \\frac{TN}{TN + FP}\n",
    "$$\n",
    "\n",
    "**En el código:** Se implementa manualmente con la función `calcular_especificidad()`, que utiliza la matriz de confusión (`confusion_matrix()`).\n",
    "\n",
    "---\n",
    "\n",
    "## 6. Curva ROC y AUC\n",
    "\n",
    "La **curva ROC** muestra la relación entre la tasa de verdaderos positivos (TPR) y la tasa de falsos positivos (FPR) a diferentes umbrales de clasificación.\n",
    "\n",
    "El **AUC** (Área Bajo la Curva) mide el área bajo la curva ROC. Un AUC cercano a 1 indica un buen desempeño del modelo para distinguir entre clases.\n",
    "\n",
    "**En el código:** Se utiliza `roc_curve()` y `roc_auc_score()` para calcular y graficar la curva ROC para cada clase.\n",
    "\n",
    "---\n",
    "\n",
    "## 7. Matriz de Confusión\n",
    "\n",
    "La **matriz de confusión** muestra el número de verdaderos positivos (TP), verdaderos negativos (TN), falsos positivos (FP) y falsos negativos (FN) para cada clase, permitiendo visualizar los errores de clasificación.\n",
    "\n",
    "**En el código:** La matriz de confusión se grafica utilizando `confusion_matrix()` y la función `graficar_matriz_confusion()`, que genera un heatmap de la matriz.\n",
    "\n",
    "---\n",
    "\n",
    "## Resumen de las Funciones Utilizadas:\n",
    "\n",
    "- **`precision_score()`**: Calcula la precisión (macro promedio).\n",
    "- **`recall_score()`**: Calcula el recall o sensibilidad (macro promedio).\n",
    "- **`f1_score()`**: Calcula el F1-score (macro promedio).\n",
    "- **`accuracy_score()`**: Calcula la exactitud de las predicciones.\n",
    "- **`calcular_especificidad()`**: Calcula la especificidad para cada clase y retorna el promedio.\n",
    "- **`roc_curve()`** y **`roc_auc_score()`**: Calculan la curva ROC y el área bajo la curva.\n",
    "- **`confusion_matrix()`**: Genera la matriz de confusión.\n",
    "- **`graficar_matriz_confusion()`**: Grafica la matriz de confusión usando Seaborn.\n",
    "\n",
    "## Modelos Evaluados:\n",
    "\n",
    "Los modelos evaluados incluyen:\n",
    "\n",
    "1. **Gaussian Naive Bayes** (`KMeans`).\n",
    "2. **C-Support Vector Classification** (`SMLPClassifier`).\n",
    "\n",
    "Cada modelo es entrenado con el conjunto de datos Iris y evaluado usando las métricas mencionadas. Las matrices de confusión y las curvas ROC de cada modelo se grafican para una mejor visualización del rendimiento.\n",
    "\n",
    "---"
   ]
  },
  {
   "cell_type": "markdown",
   "metadata": {},
   "source": [
    "# Análisis Comparativo de Modelos de Clasificación\n",
    "\n",
    "En esta sección, se presenta una comparación entre dos modelos de clasificación: **K-Means** y **Red Neuronal MLP**. Los modelos se evaluaron utilizando las siguientes métricas: **Precisión**, **Recall (Sensibilidad)**, **F1-score**, **Accuracy** y **Especificidad**.\n",
    "\n",
    "## Resultados de los Modelos\n",
    "\n",
    "### 1. K-Means\n",
    "\n",
    "- **Precisión**: 0.91\n",
    "- **Recall (Sensibilidad)**: 0.89\n",
    "- **F1-score**: 0.89\n",
    "- **Accuracy**: 0.89\n",
    "- **Especificidad**: 0.95\n",
    "\n",
    "### 2. Red Neuronal MLP\n",
    "\n",
    "- **Precisión**: 0.98\n",
    "- **Recall (Sensibilidad)**: 0.98\n",
    "- **F1-score**: 0.98\n",
    "- **Accuracy**: 0.98\n",
    "- **Especificidad**: 0.99\n",
    "\n",
    "## Comparación de Resultados\n",
    "\n",
    "### Precisión\n",
    "- **Red Neuronal MLP**: 0.98\n",
    "- **K-Means**: 0.91\n",
    "\n",
    "**Red Neuronal MLP** tiene la mayor precisión, indicando que es el modelo más preciso en la clasificación de las instancias.\n",
    "\n",
    "### Recall (Sensibilidad)\n",
    "- **Red Neuronal MLP**: 0.98\n",
    "- **K-Means**: 0.89\n",
    "\n",
    "**Red Neuronal MLP** también tiene el mayor recall, mostrando que identifica un mayor porcentaje de casos positivos.\n",
    "\n",
    "### F1-score\n",
    "- **Red Neuronal MLP**: 0.98\n",
    "- **K-Means**: 0.89\n",
    "\n",
    "La **Red Neuronal MLP** logra el mejor F1-score, indicando un balance óptimo entre precisión y recall.\n",
    "\n",
    "### Accuracy\n",
    "- **Red Neuronal MLP**: 0.98\n",
    "- **K-Means**: 0.89\n",
    "\n",
    "**Red Neuronal MLP** presenta la mayor exactitud general, lo que significa que es el modelo más consistente en clasificar correctamente las instancias.\n",
    "\n",
    "### Especificidad\n",
    "- **Red Neuronal MLP**: 0.99\n",
    "- **K-Means**: 0.95\n",
    "\n",
    "**Red Neuronal MLP** tiene la mejor especificidad, lo que indica que es el mejor en identificar correctamente las instancias negativas.\n",
    "\n",
    "## Conclusión\n",
    "\n",
    "En base a las métricas evaluadas, **Red Neuronal MLP** se destaca como el mejor modelo entre los dos en esta práctica. Ofrece la mayor precisión, recall, F1-score, exactitud y especificidad. Esto sugiere que el modelo MLP no solo es el más preciso, sino que también maneja de manera efectiva tanto los positivos como los negativos en la clasificación, proporcionando una clasificación robusta y generalizable.\n",
    "\n",
    "**K-Means** tiene un rendimiento sólido para ser un algoritmo no supervisado, pero es inferior en comparación con MLP en todas las métricas. Ambos modelos son útiles, pero la **Red Neuronal MLP** ofrece una ventaja significativa en términos de rendimiento general.\n"
   ]
  }
 ],
 "metadata": {
  "kernelspec": {
   "display_name": "myenv",
   "language": "python",
   "name": "python3"
  },
  "language_info": {
   "codemirror_mode": {
    "name": "ipython",
    "version": 3
   },
   "file_extension": ".py",
   "mimetype": "text/x-python",
   "name": "python",
   "nbconvert_exporter": "python",
   "pygments_lexer": "ipython3",
   "version": "3.6.13"
  }
 },
 "nbformat": 4,
 "nbformat_minor": 2
}
