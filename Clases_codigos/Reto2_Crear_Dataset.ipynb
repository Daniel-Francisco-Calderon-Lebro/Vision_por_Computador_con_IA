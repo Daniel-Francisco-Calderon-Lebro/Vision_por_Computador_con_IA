{
 "cells": [
  {
   "cell_type": "markdown",
   "metadata": {},
   "source": [
    "# Parte 2: Crear Dataset"
   ]
  },
  {
   "cell_type": "markdown",
   "metadata": {},
   "source": [
    "### Importación de imagenes y rutas"
   ]
  },
  {
   "cell_type": "code",
   "execution_count": 1,
   "metadata": {},
   "outputs": [],
   "source": [
    "import cv2\n",
    "import numpy as np\n",
    "import os\n",
    "\n",
    "\n",
    "# Ruta base donde se encuentran las imágenes y donde se guardarán las subimágenes\n",
    "basepath = r'C:\\Users\\Daniel Calderon\\Desktop\\2024-2 Poli\\Vision Con IA\\Practica3_(Parcial)'\n",
    "path1 = '\\Parte_1'\n",
    "# Rutas de las imágenes filtradas\n",
    "ruta1 = os.path.join(basepath + path1, 'imagen1_filtrada.png')\n",
    "ruta2 = os.path.join(basepath + path1, 'imagen2_filtrada.png')\n",
    "ruta3 = os.path.join(basepath + path1, 'imagen3_filtrada.png')\n"
   ]
  },
  {
   "cell_type": "markdown",
   "metadata": {},
   "source": [
    "### Función para dividir y guardar las subimágenes de 512x512 en una sola carpeta"
   ]
  },
  {
   "cell_type": "code",
   "execution_count": 2,
   "metadata": {},
   "outputs": [],
   "source": [
    "# Función para dividir y guardar las subimágenes de 512x512 en una sola carpeta\n",
    "def dividir_y_guardar(imagen, nombre_base, directorio_base):\n",
    "    alto, ancho = imagen.shape[:2]\n",
    "    size = 512\n",
    "    contador = 0\n",
    "\n",
    "    # Crear directorio para las subimágenes si no existe\n",
    "    if not os.path.exists(directorio_base):\n",
    "        os.makedirs(directorio_base)\n",
    "\n",
    "    for i in range(0, alto, size):\n",
    "        for j in range(0, ancho, size):\n",
    "            subimagen = imagen[i:i+size, j:j+size]\n",
    "            # Solo guardar si la subimagen tiene el tamaño correcto\n",
    "            if subimagen.shape[0] == size and subimagen.shape[1] == size:\n",
    "                nombre_subimagen = f'{nombre_base}_{contador}.png'\n",
    "                cv.imwrite(os.path.join(directorio_base, nombre_subimagen), subimagen)\n",
    "                contador += 1"
   ]
  },
  {
   "cell_type": "markdown",
   "metadata": {},
   "source": [
    "### Cargar imágenes filtradas"
   ]
  },
  {
   "cell_type": "code",
   "execution_count": 3,
   "metadata": {},
   "outputs": [
    {
     "name": "stdout",
     "output_type": "stream",
     "text": [
      "Tamaños originales:\n",
      "El tamaño de la imagen1 es (11363, 25202, 3) pixeles\n",
      "El tamaño de la imagen2 es (11364, 25204, 3) pixeles\n",
      "El tamaño de la imagen3 es (11347, 25204, 3) pixeles\n"
     ]
    }
   ],
   "source": [
    "# Cargar imágenes filtradas\n",
    "imagen1 = cv.imread(ruta1)\n",
    "imagen2 = cv.imread(ruta2)\n",
    "imagen3 = cv.imread(ruta3)\n",
    "\n",
    "print('Tamaños originales:')\n",
    "print('El tamaño de la imagen1 es', imagen1.shape, 'pixeles')\n",
    "print('El tamaño de la imagen2 es', imagen2.shape, 'pixeles')\n",
    "print('El tamaño de la imagen3 es', imagen3.shape, 'pixeles')"
   ]
  },
  {
   "cell_type": "markdown",
   "metadata": {},
   "source": [
    "### Redimensionar imágenes a múltiplos de 512"
   ]
  },
  {
   "cell_type": "code",
   "execution_count": 4,
   "metadata": {},
   "outputs": [],
   "source": [
    "# Función para redimensionar la imagen a múltiplos exactos de 512\n",
    "def ajustar_a_multiplo_de_512(imagen):\n",
    "    alto, ancho = imagen.shape[:2]\n",
    "    nuevo_alto = (alto // 512) * 512\n",
    "    nuevo_ancho = (ancho // 512) * 512\n",
    "    return cv.resize(imagen, (nuevo_ancho, nuevo_alto))"
   ]
  },
  {
   "cell_type": "markdown",
   "metadata": {},
   "source": [
    "### Imprimir tamaños redimensionados"
   ]
  },
  {
   "cell_type": "code",
   "execution_count": 5,
   "metadata": {},
   "outputs": [
    {
     "name": "stdout",
     "output_type": "stream",
     "text": [
      "Tamaños ajustados:\n",
      "El tamaño de la imagen1 es (11264, 25088, 3) pixeles\n",
      "El tamaño de la imagen2 es (11264, 25088, 3) pixeles\n",
      "El tamaño de la imagen3 es (11264, 25088, 3) pixeles\n"
     ]
    }
   ],
   "source": [
    "# Redimensionar imágenes a múltiplos de 512\n",
    "imagen1 = ajustar_a_multiplo_de_512(imagen1)\n",
    "imagen2 = ajustar_a_multiplo_de_512(imagen2)\n",
    "imagen3 = ajustar_a_multiplo_de_512(imagen3)\n",
    "\n",
    "print('Tamaños ajustados:')\n",
    "print('El tamaño de la imagen1 es', imagen1.shape, 'pixeles')\n",
    "print('El tamaño de la imagen2 es', imagen2.shape, 'pixeles')\n",
    "print('El tamaño de la imagen3 es', imagen3.shape, 'pixeles')"
   ]
  },
  {
   "cell_type": "markdown",
   "metadata": {},
   "source": [
    "### Dividir y guardar las subimgenes a una sola carpeta en esta ruta"
   ]
  },
  {
   "cell_type": "code",
   "execution_count": 6,
   "metadata": {},
   "outputs": [
    {
     "name": "stdout",
     "output_type": "stream",
     "text": [
      "Subimágenes guardadas correctamente en una sola carpeta.\n"
     ]
    }
   ],
   "source": [
    "# Definir un único directorio donde se guardarán todas las subimágenes\n",
    "path2 = '\\Parte_2'\n",
    "directorio_subimagenes = os.path.join(basepath + path2, 'Subimagenes')\n",
    "\n",
    "# Dividir y guardar las subimágenes de las tres imágenes en la misma carpeta\n",
    "dividir_y_guardar(imagen1, 'imagen1', directorio_subimagenes)\n",
    "dividir_y_guardar(imagen2, 'imagen2', directorio_subimagenes)\n",
    "dividir_y_guardar(imagen3, 'imagen3', directorio_subimagenes)\n",
    "\n",
    "print(\"Subimágenes guardadas correctamente en una sola carpeta.\")"
   ]
  },
  {
   "cell_type": "markdown",
   "metadata": {},
   "source": [
    "# Explicación del Código: Dividir y Guardar Subimágenes\n",
    "\n",
    "## Descripción General\n",
    "\n",
    "Este programa carga tres imágenes filtradas, las redimensiona a múltiplos de 512x512 píxeles, y luego las divide en subimágenes de ese tamaño, guardando las subimágenes resultantes en una carpeta específica. El objetivo es procesar imágenes de gran tamaño y dividirlas en partes más manejables para su posterior análisis.\n",
    "\n",
    "## Librerías Utilizadas\n",
    "\n",
    "- **OpenCV (`cv2`)**: Para cargar, redimensionar, dividir y guardar las imágenes.\n",
    "- **os**: Para gestionar rutas de archivos y directorios.\n",
    "- **NumPy (`np`)**: Para operaciones de matrices de imágenes (utilizada implícitamente a través de OpenCV).\n",
    "\n",
    "## Flujo del Programa\n",
    "\n",
    "### 1. Definición de Rutas\n",
    "\n",
    "El programa define las rutas para las imágenes filtradas y establece una carpeta base donde se guardarán las subimágenes.\n",
    "\n",
    "- La variable `basepath` contiene la ruta base del proyecto.\n",
    "- Las imágenes filtradas se encuentran en la carpeta `Parte_1` y las subimágenes se guardarán en `Parte_2`.\n",
    "\n",
    "### 2. Función `dividir_y_guardar`\n",
    "\n",
    "Esta función es la responsable de dividir las imágenes en subimágenes de 512x512 píxeles y guardarlas en una carpeta.\n",
    "\n",
    "- **Parámetros**:\n",
    "  - `imagen`: Imagen cargada en formato OpenCV.\n",
    "  - `nombre_base`: Nombre base para los archivos de subimágenes.\n",
    "  - `directorio_base`: Directorio donde se guardarán las subimágenes.\n",
    "\n",
    "- **Proceso**:\n",
    "  1. Verifica si el directorio de destino existe, y si no, lo crea.\n",
    "  2. Recorre la imagen en bloques de 512x512 píxeles y guarda cada subimagen con un nombre incrementado.\n",
    "\n",
    "### 3. Carga de Imágenes Filtradas\n",
    "\n",
    "Se cargan tres imágenes filtradas usando `cv2.imread()`. Estas imágenes están en formato `.png`.\n",
    "\n",
    "- La función `cv2.imread()` retorna la imagen en formato BGR (Blue-Green-Red).\n",
    "- Se imprimen los tamaños originales de las imágenes usando `imagen.shape`.\n",
    "\n",
    "### 4. Función `ajustar_a_multiplo_de_512`\n",
    "\n",
    "Dado que las imágenes pueden no tener un tamaño exacto en múltiplos de 512x512, esta función ajusta el tamaño de las imágenes para que sus dimensiones sean múltiplos exactos de 512.\n",
    "\n",
    "- **Proceso**:\n",
    "  - Se calcula el tamaño más cercano en múltiplos de 512 tanto en altura como en ancho.\n",
    "  - Se redimensiona la imagen usando `cv2.resize()` para que sus nuevas dimensiones sean divisibles por 512.\n",
    "\n",
    "### 5. Redimensionar las Imágenes\n",
    "\n",
    "Cada una de las tres imágenes cargadas se redimensiona utilizando la función `ajustar_a_multiplo_de_512()`.\n",
    "\n",
    "### 6. Guardado de Subimágenes\n",
    "\n",
    "Luego de ajustar el tamaño, cada imagen se divide en bloques de 512x512 píxeles y se guardan en una carpeta especificada. Las subimágenes se guardan en el directorio `Subimagenes`.\n",
    "\n",
    "### 7. Resultados\n",
    "\n",
    "Finalmente, el programa imprime un mensaje indicando que las subimágenes han sido guardadas correctamente.\n",
    "\n",
    "## Mensajes de Consola\n",
    "\n",
    "Durante la ejecución del programa, se imprimen los tamaños de las imágenes originales y ajustadas para verificar el proceso de redimensionamiento.\n",
    "\n",
    "### Ejemplo de salida:\n",
    "```bash\n",
    "Tamaños originales:\n",
    "El tamaño de la imagen1 es (11363, 25202, 3) pixeles\n",
    "El tamaño de la imagen2 es (11364, 25204, 3) pixeles\n",
    "El tamaño de la imagen3 es (11347, 25204, 3) pixeles\n",
    "\n",
    "Tamaños ajustados:\n",
    "El tamaño de la imagen1 es (11264, 25088, 3) pixeles\n",
    "El tamaño de la imagen2 es (11264, 25088, 3) pixeles\n",
    "El tamaño de la imagen3 es (11264, 25088, 3) pixeles\n",
    "\n",
    "Subimágenes guardadas correctamente en una sola carpeta.\n"
   ]
  }
 ],
 "metadata": {
  "kernelspec": {
   "display_name": "myenv",
   "language": "python",
   "name": "python3"
  },
  "language_info": {
   "codemirror_mode": {
    "name": "ipython",
    "version": 3
   },
   "file_extension": ".py",
   "mimetype": "text/x-python",
   "name": "python",
   "nbconvert_exporter": "python",
   "pygments_lexer": "ipython3",
   "version": "3.6.13"
  }
 },
 "nbformat": 4,
 "nbformat_minor": 2
}
